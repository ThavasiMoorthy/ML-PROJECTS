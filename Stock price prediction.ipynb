{
 "cells": [
  {
   "cell_type": "code",
   "execution_count": 86,
   "id": "427fc7e2",
   "metadata": {},
   "outputs": [],
   "source": [
    "import numpy as np\n",
    "import pandas as pd\n",
    "import matplotlib.pyplot as plt\n",
    "from sklearn.model_selection import train_test_split\n",
    "from sklearn.linear_model import LinearRegression\n",
    "from sklearn.metrics import confusion_matrix,accuracy_score\n",
    "from sklearn import metrics"
   ]
  },
  {
   "cell_type": "code",
   "execution_count": 87,
   "id": "41d0e633",
   "metadata": {},
   "outputs": [
    {
     "name": "stdout",
     "output_type": "stream",
     "text": [
      "            Date        Open        High         Low       Close\n",
      "0     2010-01-04    7.622500    7.660714    7.585000    7.643214\n",
      "1     2010-01-05    7.664286    7.699643    7.616071    7.656429\n",
      "2     2010-01-06    7.656429    7.686786    7.526786    7.534643\n",
      "3     2010-01-07    7.562500    7.571429    7.466071    7.520714\n",
      "4     2010-01-08    7.510714    7.571429    7.466429    7.570714\n",
      "...          ...         ...         ...         ...         ...\n",
      "2890  2021-06-28  133.410004  135.250000  133.350006  134.779999\n",
      "2891  2021-06-29  134.800003  136.490005  134.350006  136.330002\n",
      "2892  2021-06-30  136.169998  137.410004  135.869995  136.960007\n",
      "2893  2021-07-01  136.600006  137.330002  135.759995  137.270004\n",
      "2894  2021-07-02  137.899994  140.000000  137.750000  139.960007\n",
      "\n",
      "[2895 rows x 5 columns]\n"
     ]
    }
   ],
   "source": [
    "df=pd.read_csv(\"C:/Users/Thavasi M/Downloads/archive (2).zip\")\n",
    "print(df)\n",
    "\n"
   ]
  },
  {
   "cell_type": "code",
   "execution_count": 88,
   "id": "eca26885",
   "metadata": {},
   "outputs": [
    {
     "data": {
      "text/html": [
       "<div>\n",
       "<style scoped>\n",
       "    .dataframe tbody tr th:only-of-type {\n",
       "        vertical-align: middle;\n",
       "    }\n",
       "\n",
       "    .dataframe tbody tr th {\n",
       "        vertical-align: top;\n",
       "    }\n",
       "\n",
       "    .dataframe thead th {\n",
       "        text-align: right;\n",
       "    }\n",
       "</style>\n",
       "<table border=\"1\" class=\"dataframe\">\n",
       "  <thead>\n",
       "    <tr style=\"text-align: right;\">\n",
       "      <th></th>\n",
       "      <th>Date</th>\n",
       "      <th>Open</th>\n",
       "      <th>High</th>\n",
       "      <th>Low</th>\n",
       "      <th>Close</th>\n",
       "    </tr>\n",
       "  </thead>\n",
       "  <tbody>\n",
       "    <tr>\n",
       "      <th>0</th>\n",
       "      <td>2010-01-04</td>\n",
       "      <td>7.622500</td>\n",
       "      <td>7.660714</td>\n",
       "      <td>7.585000</td>\n",
       "      <td>7.643214</td>\n",
       "    </tr>\n",
       "    <tr>\n",
       "      <th>1</th>\n",
       "      <td>2010-01-05</td>\n",
       "      <td>7.664286</td>\n",
       "      <td>7.699643</td>\n",
       "      <td>7.616071</td>\n",
       "      <td>7.656429</td>\n",
       "    </tr>\n",
       "    <tr>\n",
       "      <th>2</th>\n",
       "      <td>2010-01-06</td>\n",
       "      <td>7.656429</td>\n",
       "      <td>7.686786</td>\n",
       "      <td>7.526786</td>\n",
       "      <td>7.534643</td>\n",
       "    </tr>\n",
       "    <tr>\n",
       "      <th>3</th>\n",
       "      <td>2010-01-07</td>\n",
       "      <td>7.562500</td>\n",
       "      <td>7.571429</td>\n",
       "      <td>7.466071</td>\n",
       "      <td>7.520714</td>\n",
       "    </tr>\n",
       "    <tr>\n",
       "      <th>4</th>\n",
       "      <td>2010-01-08</td>\n",
       "      <td>7.510714</td>\n",
       "      <td>7.571429</td>\n",
       "      <td>7.466429</td>\n",
       "      <td>7.570714</td>\n",
       "    </tr>\n",
       "  </tbody>\n",
       "</table>\n",
       "</div>"
      ],
      "text/plain": [
       "         Date      Open      High       Low     Close\n",
       "0  2010-01-04  7.622500  7.660714  7.585000  7.643214\n",
       "1  2010-01-05  7.664286  7.699643  7.616071  7.656429\n",
       "2  2010-01-06  7.656429  7.686786  7.526786  7.534643\n",
       "3  2010-01-07  7.562500  7.571429  7.466071  7.520714\n",
       "4  2010-01-08  7.510714  7.571429  7.466429  7.570714"
      ]
     },
     "execution_count": 88,
     "metadata": {},
     "output_type": "execute_result"
    }
   ],
   "source": [
    "df.head()\n"
   ]
  },
  {
   "cell_type": "code",
   "execution_count": 89,
   "id": "d183923f",
   "metadata": {},
   "outputs": [
    {
     "data": {
      "text/html": [
       "<div>\n",
       "<style scoped>\n",
       "    .dataframe tbody tr th:only-of-type {\n",
       "        vertical-align: middle;\n",
       "    }\n",
       "\n",
       "    .dataframe tbody tr th {\n",
       "        vertical-align: top;\n",
       "    }\n",
       "\n",
       "    .dataframe thead th {\n",
       "        text-align: right;\n",
       "    }\n",
       "</style>\n",
       "<table border=\"1\" class=\"dataframe\">\n",
       "  <thead>\n",
       "    <tr style=\"text-align: right;\">\n",
       "      <th></th>\n",
       "      <th>Date</th>\n",
       "      <th>Open</th>\n",
       "      <th>High</th>\n",
       "      <th>Low</th>\n",
       "      <th>Close</th>\n",
       "    </tr>\n",
       "  </thead>\n",
       "  <tbody>\n",
       "    <tr>\n",
       "      <th>2890</th>\n",
       "      <td>2021-06-28</td>\n",
       "      <td>133.410004</td>\n",
       "      <td>135.250000</td>\n",
       "      <td>133.350006</td>\n",
       "      <td>134.779999</td>\n",
       "    </tr>\n",
       "    <tr>\n",
       "      <th>2891</th>\n",
       "      <td>2021-06-29</td>\n",
       "      <td>134.800003</td>\n",
       "      <td>136.490005</td>\n",
       "      <td>134.350006</td>\n",
       "      <td>136.330002</td>\n",
       "    </tr>\n",
       "    <tr>\n",
       "      <th>2892</th>\n",
       "      <td>2021-06-30</td>\n",
       "      <td>136.169998</td>\n",
       "      <td>137.410004</td>\n",
       "      <td>135.869995</td>\n",
       "      <td>136.960007</td>\n",
       "    </tr>\n",
       "    <tr>\n",
       "      <th>2893</th>\n",
       "      <td>2021-07-01</td>\n",
       "      <td>136.600006</td>\n",
       "      <td>137.330002</td>\n",
       "      <td>135.759995</td>\n",
       "      <td>137.270004</td>\n",
       "    </tr>\n",
       "    <tr>\n",
       "      <th>2894</th>\n",
       "      <td>2021-07-02</td>\n",
       "      <td>137.899994</td>\n",
       "      <td>140.000000</td>\n",
       "      <td>137.750000</td>\n",
       "      <td>139.960007</td>\n",
       "    </tr>\n",
       "  </tbody>\n",
       "</table>\n",
       "</div>"
      ],
      "text/plain": [
       "            Date        Open        High         Low       Close\n",
       "2890  2021-06-28  133.410004  135.250000  133.350006  134.779999\n",
       "2891  2021-06-29  134.800003  136.490005  134.350006  136.330002\n",
       "2892  2021-06-30  136.169998  137.410004  135.869995  136.960007\n",
       "2893  2021-07-01  136.600006  137.330002  135.759995  137.270004\n",
       "2894  2021-07-02  137.899994  140.000000  137.750000  139.960007"
      ]
     },
     "execution_count": 89,
     "metadata": {},
     "output_type": "execute_result"
    }
   ],
   "source": [
    "df.tail()\n"
   ]
  },
  {
   "cell_type": "code",
   "execution_count": 90,
   "id": "510b09c2",
   "metadata": {},
   "outputs": [
    {
     "data": {
      "text/plain": [
       "(2895, 5)"
      ]
     },
     "execution_count": 90,
     "metadata": {},
     "output_type": "execute_result"
    }
   ],
   "source": [
    "df.shape"
   ]
  },
  {
   "cell_type": "code",
   "execution_count": 91,
   "id": "fe511f70",
   "metadata": {},
   "outputs": [
    {
     "name": "stdout",
     "output_type": "stream",
     "text": [
      "<class 'pandas.core.frame.DataFrame'>\n",
      "RangeIndex: 2895 entries, 0 to 2894\n",
      "Data columns (total 5 columns):\n",
      " #   Column  Non-Null Count  Dtype  \n",
      "---  ------  --------------  -----  \n",
      " 0   Date    2895 non-null   object \n",
      " 1   Open    2895 non-null   float64\n",
      " 2   High    2895 non-null   float64\n",
      " 3   Low     2895 non-null   float64\n",
      " 4   Close   2895 non-null   float64\n",
      "dtypes: float64(4), object(1)\n",
      "memory usage: 113.2+ KB\n"
     ]
    }
   ],
   "source": [
    "df.info()"
   ]
  },
  {
   "cell_type": "code",
   "execution_count": 92,
   "id": "daed327a",
   "metadata": {},
   "outputs": [
    {
     "data": {
      "text/plain": [
       "Date     0\n",
       "Open     0\n",
       "High     0\n",
       "Low      0\n",
       "Close    0\n",
       "dtype: int64"
      ]
     },
     "execution_count": 92,
     "metadata": {},
     "output_type": "execute_result"
    }
   ],
   "source": [
    "df.isnull().sum()"
   ]
  },
  {
   "cell_type": "code",
   "execution_count": 93,
   "id": "9fb8a345",
   "metadata": {},
   "outputs": [
    {
     "data": {
      "text/html": [
       "<div>\n",
       "<style scoped>\n",
       "    .dataframe tbody tr th:only-of-type {\n",
       "        vertical-align: middle;\n",
       "    }\n",
       "\n",
       "    .dataframe tbody tr th {\n",
       "        vertical-align: top;\n",
       "    }\n",
       "\n",
       "    .dataframe thead th {\n",
       "        text-align: right;\n",
       "    }\n",
       "</style>\n",
       "<table border=\"1\" class=\"dataframe\">\n",
       "  <thead>\n",
       "    <tr style=\"text-align: right;\">\n",
       "      <th></th>\n",
       "      <th>Open</th>\n",
       "      <th>High</th>\n",
       "      <th>Low</th>\n",
       "      <th>Close</th>\n",
       "    </tr>\n",
       "  </thead>\n",
       "  <tbody>\n",
       "    <tr>\n",
       "      <th>count</th>\n",
       "      <td>2895.000000</td>\n",
       "      <td>2895.000000</td>\n",
       "      <td>2895.000000</td>\n",
       "      <td>2895.000000</td>\n",
       "    </tr>\n",
       "    <tr>\n",
       "      <th>mean</th>\n",
       "      <td>37.916409</td>\n",
       "      <td>38.308367</td>\n",
       "      <td>37.516815</td>\n",
       "      <td>37.927430</td>\n",
       "    </tr>\n",
       "    <tr>\n",
       "      <th>std</th>\n",
       "      <td>30.940397</td>\n",
       "      <td>31.317698</td>\n",
       "      <td>30.537223</td>\n",
       "      <td>30.943089</td>\n",
       "    </tr>\n",
       "    <tr>\n",
       "      <th>min</th>\n",
       "      <td>6.870357</td>\n",
       "      <td>7.000000</td>\n",
       "      <td>6.794643</td>\n",
       "      <td>6.858929</td>\n",
       "    </tr>\n",
       "    <tr>\n",
       "      <th>25%</th>\n",
       "      <td>18.005178</td>\n",
       "      <td>18.136608</td>\n",
       "      <td>17.839822</td>\n",
       "      <td>17.951428</td>\n",
       "    </tr>\n",
       "    <tr>\n",
       "      <th>50%</th>\n",
       "      <td>27.592501</td>\n",
       "      <td>27.937500</td>\n",
       "      <td>27.299999</td>\n",
       "      <td>27.594999</td>\n",
       "    </tr>\n",
       "    <tr>\n",
       "      <th>75%</th>\n",
       "      <td>44.887499</td>\n",
       "      <td>45.151249</td>\n",
       "      <td>44.465000</td>\n",
       "      <td>44.795001</td>\n",
       "    </tr>\n",
       "    <tr>\n",
       "      <th>max</th>\n",
       "      <td>143.600006</td>\n",
       "      <td>145.089996</td>\n",
       "      <td>141.369995</td>\n",
       "      <td>143.160004</td>\n",
       "    </tr>\n",
       "  </tbody>\n",
       "</table>\n",
       "</div>"
      ],
      "text/plain": [
       "              Open         High          Low        Close\n",
       "count  2895.000000  2895.000000  2895.000000  2895.000000\n",
       "mean     37.916409    38.308367    37.516815    37.927430\n",
       "std      30.940397    31.317698    30.537223    30.943089\n",
       "min       6.870357     7.000000     6.794643     6.858929\n",
       "25%      18.005178    18.136608    17.839822    17.951428\n",
       "50%      27.592501    27.937500    27.299999    27.594999\n",
       "75%      44.887499    45.151249    44.465000    44.795001\n",
       "max     143.600006   145.089996   141.369995   143.160004"
      ]
     },
     "execution_count": 93,
     "metadata": {},
     "output_type": "execute_result"
    }
   ],
   "source": [
    "df.describe()"
   ]
  },
  {
   "cell_type": "code",
   "execution_count": 94,
   "id": "296b59d5",
   "metadata": {},
   "outputs": [
    {
     "data": {
      "text/plain": [
       "<Axes: >"
      ]
     },
     "execution_count": 94,
     "metadata": {},
     "output_type": "execute_result"
    },
    {
     "data": {
      "image/png": "[encoded data removed]",
      "text/plain": [
       "<Figure size 800x800 with 1 Axes>"
      ]
     },
     "metadata": {},
     "output_type": "display_data"
    }
   ],
   "source": [
    "df['Close'].plot(figsize=(8,8))\n"
   ]
  },
  {
   "cell_type": "code",
   "execution_count": 95,
   "id": "a3ad2f9f",
   "metadata": {},
   "outputs": [],
   "source": [
    "x=df[['Open','High','Low']]\n",
    "y=df['Close']"
   ]
  },
  {
   "cell_type": "code",
   "execution_count": 96,
   "id": "1c4acc9f",
   "metadata": {},
   "outputs": [],
   "source": [
    "x_train,x_test,y_train,y_test=train_test_split(x,y,random_state=0)"
   ]
  },
  {
   "cell_type": "code",
   "execution_count": 97,
   "id": "ad4d5919",
   "metadata": {},
   "outputs": [
    {
     "name": "stdout",
     "output_type": "stream",
     "text": [
      "(2171, 3) (724, 3)\n"
     ]
    }
   ],
   "source": [
    "print(x_train.shape,x_test.shape)"
   ]
  },
  {
   "cell_type": "code",
   "execution_count": 98,
   "id": "0832e8ee",
   "metadata": {},
   "outputs": [
    {
     "data": {
      "text/html": [
       "<style>#sk-container-id-2 {color: black;}#sk-container-id-2 pre{padding: 0;}#sk-container-id-2 div.sk-toggleable {background-color: white;}#sk-container-id-2 label.sk-toggleable__label {cursor: pointer;display: block;width: 100%;margin-bottom: 0;padding: 0.3em;box-sizing: border-box;text-align: center;}#sk-container-id-2 label.sk-toggleable__label-arrow:before {content: \"▸\";float: left;margin-right: 0.25em;color: #696969;}#sk-container-id-2 label.sk-toggleable__label-arrow:hover:before {color: black;}#sk-container-id-2 div.sk-estimator:hover label.sk-toggleable__label-arrow:before {color: black;}#sk-container-id-2 div.sk-toggleable__content {max-height: 0;max-width: 0;overflow: hidden;text-align: left;background-color: #f0f8ff;}#sk-container-id-2 div.sk-toggleable__content pre {margin: 0.2em;color: black;border-radius: 0.25em;background-color: #f0f8ff;}#sk-container-id-2 input.sk-toggleable__control:checked~div.sk-toggleable__content {max-height: 200px;max-width: 100%;overflow: auto;}#sk-container-id-2 input.sk-toggleable__control:checked~label.sk-toggleable__label-arrow:before {content: \"▾\";}#sk-container-id-2 div.sk-estimator input.sk-toggleable__control:checked~label.sk-toggleable__label {background-color: #d4ebff;}#sk-container-id-2 div.sk-label input.sk-toggleable__control:checked~label.sk-toggleable__label {background-color: #d4ebff;}#sk-container-id-2 input.sk-hidden--visually {border: 0;clip: rect(1px 1px 1px 1px);clip: rect(1px, 1px, 1px, 1px);height: 1px;margin: -1px;overflow: hidden;padding: 0;position: absolute;width: 1px;}#sk-container-id-2 div.sk-estimator {font-family: monospace;background-color: #f0f8ff;border: 1px dotted black;border-radius: 0.25em;box-sizing: border-box;margin-bottom: 0.5em;}#sk-container-id-2 div.sk-estimator:hover {background-color: #d4ebff;}#sk-container-id-2 div.sk-parallel-item::after {content: \"\";width: 100%;border-bottom: 1px solid gray;flex-grow: 1;}#sk-container-id-2 div.sk-label:hover label.sk-toggleable__label {background-color: #d4ebff;}#sk-container-id-2 div.sk-serial::before {content: \"\";position: absolute;border-left: 1px solid gray;box-sizing: border-box;top: 0;bottom: 0;left: 50%;z-index: 0;}#sk-container-id-2 div.sk-serial {display: flex;flex-direction: column;align-items: center;background-color: white;padding-right: 0.2em;padding-left: 0.2em;position: relative;}#sk-container-id-2 div.sk-item {position: relative;z-index: 1;}#sk-container-id-2 div.sk-parallel {display: flex;align-items: stretch;justify-content: center;background-color: white;position: relative;}#sk-container-id-2 div.sk-item::before, #sk-container-id-2 div.sk-parallel-item::before {content: \"\";position: absolute;border-left: 1px solid gray;box-sizing: border-box;top: 0;bottom: 0;left: 50%;z-index: -1;}#sk-container-id-2 div.sk-parallel-item {display: flex;flex-direction: column;z-index: 1;position: relative;background-color: white;}#sk-container-id-2 div.sk-parallel-item:first-child::after {align-self: flex-end;width: 50%;}#sk-container-id-2 div.sk-parallel-item:last-child::after {align-self: flex-start;width: 50%;}#sk-container-id-2 div.sk-parallel-item:only-child::after {width: 0;}#sk-container-id-2 div.sk-dashed-wrapped {border: 1px dashed gray;margin: 0 0.4em 0.5em 0.4em;box-sizing: border-box;padding-bottom: 0.4em;background-color: white;}#sk-container-id-2 div.sk-label label {font-family: monospace;font-weight: bold;display: inline-block;line-height: 1.2em;}#sk-container-id-2 div.sk-label-container {text-align: center;}#sk-container-id-2 div.sk-container {/* jupyter's `normalize.less` sets `[hidden] { display: none; }` but bootstrap.min.css set `[hidden] { display: none !important; }` so we also need the `!important` here to be able to override the default hidden behavior on the sphinx rendered scikit-learn.org. See: https://github.com/scikit-learn/scikit-learn/issues/21755 */display: inline-block !important;position: relative;}#sk-container-id-2 div.sk-text-repr-fallback {display: none;}</style><div id=\"sk-container-id-2\" class=\"sk-top-container\"><div class=\"sk-text-repr-fallback\"><pre>LinearRegression()</pre><b>In a Jupyter environment, please rerun this cell to show the HTML representation or trust the notebook. <br />On GitHub, the HTML representation is unable to render, please try loading this page with nbviewer.org.</b></div><div class=\"sk-container\" hidden><div class=\"sk-item\"><div class=\"sk-estimator sk-toggleable\"><input class=\"sk-toggleable__control sk-hidden--visually\" id=\"sk-estimator-id-2\" type=\"checkbox\" checked><label for=\"sk-estimator-id-2\" class=\"sk-toggleable__label sk-toggleable__label-arrow\">LinearRegression</label><div class=\"sk-toggleable__content\"><pre>LinearRegression()</pre></div></div></div></div></div>"
      ],
      "text/plain": [
       "LinearRegression()"
      ]
     },
     "execution_count": 98,
     "metadata": {},
     "output_type": "execute_result"
    }
   ],
   "source": [
    "regressor=LinearRegression()\n",
    "regressor.fit(x_train,y_train)"
   ]
  },
  {
   "cell_type": "code",
   "execution_count": 99,
   "id": "c55c7a03",
   "metadata": {},
   "outputs": [
    {
     "name": "stdout",
     "output_type": "stream",
     "text": [
      "[-0.59489155  0.84086008  0.75369761]\n",
      "-0.0056353593368285715\n"
     ]
    }
   ],
   "source": [
    "print(regressor.coef_)\n",
    "print(regressor.intercept_)"
   ]
  },
  {
   "cell_type": "code",
   "execution_count": 100,
   "id": "20627881",
   "metadata": {},
   "outputs": [
    {
     "name": "stdout",
     "output_type": "stream",
     "text": [
      "            Open        High         Low\n",
      "2308   43.467499   43.610001   43.005001\n",
      "2136   46.025002   46.552502   45.950001\n",
      "22      7.026071    7.084643    6.841786\n",
      "1005   19.791786   20.045713   19.785713\n",
      "248    11.639643   11.666429   11.609286\n",
      "...          ...         ...         ...\n",
      "2044   42.447498   43.272499   42.250000\n",
      "232    11.321786   11.380357   11.297857\n",
      "610    20.045357   20.231071   19.940357\n",
      "2175   53.662498   54.262501   53.650002\n",
      "2844  133.039993  134.149994  131.410004\n",
      "\n",
      "[724 rows x 3 columns]\n",
      "[ 43.2185924   46.39102658   6.92844564  19.98848292  11.62976497\n",
      "  19.30485126  66.68123705  56.68124551  16.48632854  32.56411566\n",
      "  14.16362172  44.60208797  14.12996667 129.78806653  16.14765105\n",
      "  19.22754807  19.87719391  47.24550548  12.46268106  47.75663275\n",
      "  20.35992714  27.75929327  16.55834931  21.14569144  11.81091748\n",
      "  11.97546251  47.5479568   33.02350077   9.62011091  12.13430924\n",
      " 107.51267645  52.24290135 133.89345812   9.80777083  42.16773732\n",
      "  43.42635368 128.45046984  41.65657665  21.38112276   9.20002514\n",
      "  23.72961959  50.81404775  35.92175442  43.68211412  76.64488016\n",
      " 129.88470628 127.82216259  20.13321411  19.5425294   18.79120209\n",
      "  21.79860374  37.36479258  12.58758845  51.63490039  13.03367285\n",
      "  14.07531035  12.56909401  60.5620563   13.96157841  26.90141914\n",
      "  38.57593328  19.472512    17.59464342  41.9509832  130.89108391\n",
      "  78.5124438   29.25741661  29.32064723 134.97974961   7.13839475\n",
      "  23.23067784  47.75804822   9.3446311   53.9275887  120.03489681\n",
      "  47.08648368  16.31495217  42.67135195  19.35328437  23.37682921\n",
      "  22.53125349 110.8169368   31.26445224  18.78427318   8.94404676\n",
      "  11.2930119   16.28923313  57.00297002  36.68771979  59.33541793\n",
      "  24.36732408  50.0746429   25.31536345  13.90870511 139.41928188\n",
      "  23.96885283  21.26401959  39.87117098  28.68796734  90.45341519\n",
      "  19.40341008  26.49172895  11.32252503  14.41274637  38.42379428\n",
      "  14.66864447  54.88344092  19.06442781  31.66229836  56.03354616\n",
      "  42.58963864  31.1115528   27.76332638  19.02469632  54.96807894\n",
      "  29.60577719  59.05248379  16.25527028  12.73888835  55.03325494\n",
      "  22.67761061  10.40123692  42.04430521  32.01639209 123.15146918\n",
      "  18.785591    28.62141823  13.79519234  16.40338549  85.80873989\n",
      "  81.0113165   78.47746187  57.23702255  11.12236768  23.5881284\n",
      "  68.5662416  114.50271584  19.37470628  17.97372933  70.23433377\n",
      "  15.49665152  26.3971003   26.86845894  27.61579169  14.31287426\n",
      " 134.59918462  10.58542535   7.60890842  42.70181088  37.36234774\n",
      "  36.53040367  21.95080555  25.01124681  19.3545645   31.83527233\n",
      "  51.23893361  17.70227002  55.15091781  26.58807244  23.92340301\n",
      "  39.21910716   8.85962351  11.74958276  20.82662245  12.36470073\n",
      "   7.48959172  15.18351576  23.97653391  11.73768992  32.23740065\n",
      "  43.47940952  51.71896537  28.35872276  21.49112745  42.58467788\n",
      "  17.82202812  65.50221113  46.98555922  20.80933996  32.47416358\n",
      "  24.11808769 125.244807    43.49652597  12.13004397  10.07611848\n",
      "  24.12831615  47.84623947  31.4966096   29.13736556 121.08766771\n",
      "  21.1314728   27.60399989  42.7480879   51.1959073   18.47601874\n",
      "  55.66936256  15.6372424   12.63370673  49.91619016  20.26570825\n",
      "  14.2946185   23.73324183  30.44117705  31.74990523   6.92500017\n",
      "  23.32121248  29.24402241   8.79024206  23.35244395  44.78152806\n",
      "  12.44303928  23.40342651  12.14738217  38.76497615  42.80044012\n",
      "  19.3345802   21.0613937   21.97731948  32.3979883   39.08172024\n",
      "  44.58891876  42.39517672  28.86515276  14.53234425  51.57102933\n",
      "  37.85248425  75.78992889  23.53688205  23.78992381  30.23148534\n",
      "  16.14703587  20.00188488  46.79255653  18.02088537   9.03576364\n",
      "  29.73530166  10.27206514  22.73806519  28.1532013   64.66645053\n",
      "   7.40898087 124.11865394  22.39887906  32.18369396  29.45220552\n",
      "  28.62481938 116.64960609   7.19839743  31.7892792    8.73478642\n",
      "  21.13646544  18.71349447  25.02678524  28.43167351  27.1595877\n",
      "  44.6639847   19.00677957  33.04712081  39.01478802  23.81236896\n",
      "  47.75938835  33.34663803  12.25098914  12.01931255  10.75430085\n",
      "  11.83749543  40.59842815  16.49043058  26.12479541  18.0162924\n",
      " 109.82704627  24.44942551  12.77558751  21.25233384   9.35052563\n",
      "  14.61947447  32.04102225  18.16560908  15.42152498  40.42223036\n",
      "  28.91959804  14.76536847  17.17251807  60.42225666  15.89138371\n",
      "  42.7543133   48.49876048  33.91154597  20.03845519  16.1067153\n",
      "  39.64593082  29.99620582  25.08533473  25.02942758  29.37416983\n",
      "  28.31044551  29.37528536  43.11568297  11.59382086  29.54805259\n",
      "  18.85287213  25.17420544  79.55872082  31.06078483  40.62200698\n",
      "  18.45919999  71.33783885  15.61778949  66.4690065    8.02312075\n",
      "  70.10187369  51.57135535 112.63972746  14.15498281  17.26402306\n",
      "  25.82964453  18.89429599  23.36533113  73.16371556  42.57214498\n",
      "  26.66968746  38.14021567  39.1496958  123.73160191  11.86069771\n",
      "  18.64503868  22.83791198  23.7576016   16.48791777  19.18925051\n",
      "  43.52859771  18.17130906   8.70330281  25.06082313  24.10372618\n",
      "  24.81775815  12.66866548  43.65573245  11.06816487  38.93749331\n",
      "  17.8467539   23.3651494   29.095801    27.36656027  29.55738704\n",
      "  45.42190714  41.65971518  28.37308719  47.44959951  20.18056937\n",
      "  46.87727045  46.70684382  39.99243292  15.05583173  49.49317704\n",
      "  69.74217924  24.76788041   9.19661253   9.66142063  43.84974562\n",
      "  48.69684655  28.16545069  34.76423446  12.4037782   26.2553918\n",
      "  20.72557199 116.2284114   42.37989429  19.27768992  28.4356026\n",
      "  70.18091095 129.4618336   25.4869297  113.58362134  15.38016782\n",
      "  39.33008026  16.15949024 130.03142058  20.35810568  65.50199967\n",
      "  14.00678374   9.16198806  23.61162816  64.33750972  29.78125542\n",
      "  20.02719613  51.92764029 122.09209742  14.04713196  54.44973186\n",
      "  13.47558228  29.31807963  26.11594699 120.35906287  18.47653236\n",
      "  27.93396558  13.36499967  18.93953267  24.28598708  28.43700951\n",
      "  43.54625475  14.05883939  20.51356735  25.15615124  11.44443551\n",
      "  19.63321467  22.38216481  28.46413864  21.10434495  13.81475243\n",
      "  41.60366085  19.90687425  51.55789447   9.50330414  29.98994207\n",
      "  14.38647459  12.64564899  23.75693002  16.55297092  13.79698349\n",
      "  19.13300819  34.8078929   41.93793279  21.6853193   96.7374936\n",
      "  13.79776152  13.94858112  54.99429509  17.29900236  22.42543718\n",
      "   7.22776794  18.51461022  79.36485494  93.65402993  24.04887399\n",
      "  27.12186135  15.29545664  13.55656431  38.38634348  17.65491302\n",
      "  22.40897327  15.94039529  29.43761647  29.8932312   50.48141466\n",
      "  11.20701906  19.02603043  49.72353599 125.53209878  16.95968452\n",
      "  31.48109444  15.75115493  15.90581106  35.89786534  32.34984082\n",
      "  13.70901554  38.29625655  21.93650257  32.21788315  12.13202753\n",
      "  11.40760224 129.31853217  11.94075313  36.07577589  13.55733633\n",
      "  66.39823903  35.95516903   9.41071776  20.19186849  18.84327263\n",
      "  32.91745624  13.93865243  20.45009224  79.65580585  49.98661332\n",
      "  25.78357458  29.22646657  46.36253512  40.24794131  53.11047983\n",
      " 128.0087227    9.56900783   9.54421164  25.61656671  55.31195452\n",
      " 115.08054363  31.37655528 129.49355161  16.77918691  43.7671961\n",
      "  32.19099641  18.72419656  11.99595545 130.76979694  18.23692607\n",
      "  36.9744597   24.37954664 119.36599456  15.42695807  31.78656873\n",
      "  19.37211399  24.10999184  15.86111675  50.57504804  52.25596683\n",
      "  55.95379176  40.72538699  32.35689948  43.6398585   17.65792808\n",
      "   8.63895642  32.58655279   8.59408128  27.99727031  19.51034576\n",
      "  42.93793782  40.55265368  23.66077049  22.51330338 118.19328599\n",
      "  43.13586513  23.65296169  28.9277411   14.97149064  12.07017203\n",
      "  20.10339233  11.53463045  24.96217378  23.99239956  60.30896716\n",
      "  24.53698447  22.1683721  132.90415613 126.92321542   8.84905619\n",
      "  20.87152342  25.27746277 117.1870608   18.4469488   47.22537084\n",
      "  26.01274976   9.65771124 109.03896872  30.68313257  29.05790822\n",
      "  44.01890238  23.48456125  27.02967316  79.5758455   49.85191224\n",
      " 127.12804029  21.53180871  11.2878047   43.01555362  14.20092823\n",
      "   7.07621817  21.79108529  14.96817369  13.19981446  48.95509013\n",
      "  14.99193722  15.60568953  43.65146335  22.83840136  53.31242026\n",
      "  35.88216288  21.78555148  23.75875584  35.26096054  35.19132041\n",
      "  35.81343067  24.84873578  18.90754907  39.06696267  21.94695951\n",
      "  18.45948598  35.84710043  10.09430322  97.36743626  28.691557\n",
      "  16.10715293  66.01105002  43.63581369  48.64341929  43.75404246\n",
      "  39.14470976  15.68213843  14.35665265  43.3776022   12.33400796\n",
      "  39.40184082   7.29336597  13.52389811  20.02550292  18.70900098\n",
      "  15.28878868  20.70957249  12.52449364  13.28350464  41.59345067\n",
      "  17.9787436   19.83150767 114.92004166  28.24420186  27.43970671\n",
      " 121.15613445  72.03328945  19.00626515  29.86982263  77.25334753\n",
      "  48.45180622  23.75636839  23.86328431  10.28893117  78.92749139\n",
      "  26.30228535  15.02204559  91.48677645  15.24795451  19.38951282\n",
      "  12.03704911  24.66104017  17.68945823  27.91298735  44.87018165\n",
      "  21.83618167  29.05244207 127.88060651  25.06984187  24.29184693\n",
      "  13.21473252  18.27363114   8.24774573  21.68172349  44.17349019\n",
      "  64.97874246  11.50514858  61.05822065 139.79347916  15.43723801\n",
      "  39.89075714  12.85676176  22.73493442  56.69204678  29.06709568\n",
      "  29.7418703   14.98847166  55.61521185  26.80212466  54.95314902\n",
      "  43.71349666  28.11569187  13.86078873  31.50611806  14.28964458\n",
      "  38.98404563  17.69973849  24.09443949 135.88497352  32.96418331\n",
      " 135.32260946  79.58956851  25.02080861  32.46252083  12.54563701\n",
      "  17.84056043  33.99947522  33.13368781  44.6214334   24.79055163\n",
      " 123.87103251  46.90710112 115.43397819  26.7236655   15.24830052\n",
      "  18.36972892  36.60868617  70.85530176  20.02858236  14.43583997\n",
      "  18.00338996  11.93739457   9.0803876   33.12195864  46.35099494\n",
      "  16.35530074 129.21666947   9.21800999  72.17984149  23.89888677\n",
      "  62.25782764  11.08748753   7.49790824 131.29716285  44.19309343\n",
      "  24.62981402  18.87536929 124.23607979  23.14718745   7.52024647\n",
      "  17.36724166 132.94488512  56.63076767  46.62816802 122.27878418\n",
      "  28.74673068  24.7815968   47.51378299  13.82068953  42.2466612\n",
      "  28.12550184  11.4962132   42.2270043   12.2797732   80.64313899\n",
      "  43.42969941  27.80670947 142.45427462  15.78297767  42.97254796\n",
      "  11.34358559  20.11005064  54.13404751 132.69477828]\n"
     ]
    }
   ],
   "source": [
    "predicted=regressor.predict(x_test)\n",
    "print(x_test)\n",
    "print(predicted)"
   ]
  },
  {
   "cell_type": "code",
   "execution_count": 101,
   "id": "9f906d41",
   "metadata": {},
   "outputs": [
    {
     "data": {
      "text/plain": [
       "(724,)"
      ]
     },
     "execution_count": 101,
     "metadata": {},
     "output_type": "execute_result"
    }
   ],
   "source": [
    "predicted.shape"
   ]
  },
  {
   "cell_type": "code",
   "execution_count": 102,
   "id": "6ccfcba5",
   "metadata": {},
   "outputs": [
    {
     "name": "stdout",
     "output_type": "stream",
     "text": [
      "          actual   predicted\n",
      "2308   43.125000   43.218592\n",
      "2136   46.375000   46.391027\n",
      "22      6.858929    6.928446\n",
      "1005   20.036428   19.988483\n",
      "248    11.623929   11.629765\n",
      "...          ...         ...\n",
      "2044   43.247501   42.972548\n",
      "232    11.337143   11.343586\n",
      "610    20.101070   20.110051\n",
      "2175   53.872501   54.134048\n",
      "2844  131.940002  132.694778\n",
      "\n",
      "[724 rows x 2 columns]\n"
     ]
    }
   ],
   "source": [
    "df=pd.DataFrame({\"actual\":y_test,\"predicted\":predicted})\n",
    "print(df)"
   ]
  },
  {
   "cell_type": "code",
   "execution_count": 103,
   "id": "dd31da6b",
   "metadata": {},
   "outputs": [
    {
     "data": {
      "text/plain": [
       "0.9998615691474141"
      ]
     },
     "execution_count": 103,
     "metadata": {},
     "output_type": "execute_result"
    }
   ],
   "source": [
    "regressor.score(x_test,y_test)"
   ]
  },
  {
   "cell_type": "code",
   "execution_count": 104,
   "id": "7562af08",
   "metadata": {},
   "outputs": [
    {
     "name": "stdout",
     "output_type": "stream",
     "text": [
      "Mean Absolute Error 0.16643040096013204\n",
      "Mean Square Error 0.1273214091950436\n",
      "Root Mean Error 0.16643040096013204\n"
     ]
    }
   ],
   "source": [
    "import math\n",
    "print(\"Mean Absolute Error\",metrics.mean_absolute_error(y_test,predicted))\n",
    "print(\"Mean Square Error\",metrics.mean_squared_error(y_test,predicted)) \n",
    "print(\"Root Mean Error\",metrics.mean_absolute_error(y_test,predicted))"
   ]
  },
  {
   "cell_type": "code",
   "execution_count": 105,
   "id": "3c119230",
   "metadata": {},
   "outputs": [
    {
     "name": "stdout",
     "output_type": "stream",
     "text": [
      "[  7.6181888    7.64948264   7.57605187 ... 136.93546159 136.52947624\n",
      " 139.50108112]\n"
     ]
    }
   ],
   "source": [
    "predicted=regressor.predict(x)\n",
    "print(predicted)"
   ]
  },
  {
   "cell_type": "code",
   "execution_count": 106,
   "id": "2a96a699",
   "metadata": {
    "scrolled": false
   },
   "outputs": [
    {
     "data": {
      "image/png": "[encoded data removed]",
      "text/plain": [
       "<Figure size 640x480 with 1 Axes>"
      ]
     },
     "metadata": {},
     "output_type": "display_data"
    }
   ],
   "source": [
    "plt.title(\"Actual vs Predicted\")\n",
    "plt.plot(y,label=\"Actual\")\n",
    "plt.plot(predicted,label=\"Predicted\")\n",
    "plt.xlabel(\"Index\")\n",
    "plt.ylabel(\"Value\")\n",
    "plt.show()"
   ]
  },
  {
   "cell_type": "code",
   "execution_count": null,
   "id": "07b9d028",
   "metadata": {},
   "outputs": [],
   "source": []
  }
 ],
 "metadata": {
  "kernelspec": {
   "display_name": "Python 3 (ipykernel)",
   "language": "python",
   "name": "python3"
  },
  "language_info": {
   "codemirror_mode": {
    "name": "ipython",
    "version": 3
   },
   "file_extension": ".py",
   "mimetype": "text/x-python",
   "name": "python",
   "nbconvert_exporter": "python",
   "pygments_lexer": "ipython3",
   "version": "3.11.5"
  }
 },
 "nbformat": 4,
 "nbformat_minor": 5
}
